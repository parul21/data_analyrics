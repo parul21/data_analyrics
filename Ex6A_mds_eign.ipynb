{
  "nbformat": 4,
  "nbformat_minor": 0,
  "metadata": {
    "colab": {
      "name": "Ex6A_mds_eign.ipynb",
      "version": "0.3.2",
      "provenance": [],
      "include_colab_link": true
    },
    "kernelspec": {
      "name": "python3",
      "display_name": "Python 3"
    }
  },
  "cells": [
    {
      "cell_type": "markdown",
      "metadata": {
        "id": "view-in-github",
        "colab_type": "text"
      },
      "source": [
        "<a href=\"https://colab.research.google.com/github/parul21/data_analytics/blob/master/Ex6A_mds_eign.ipynb\" target=\"_parent\"><img src=\"https://colab.research.google.com/assets/colab-badge.svg\" alt=\"Open In Colab\"/></a>"
      ]
    },
    {
      "cell_type": "code",
      "metadata": {
        "id": "W2mgLWlVVDWf",
        "colab_type": "code",
        "colab": {}
      },
      "source": [
        "from numpy import array\n",
        "from sklearn.decomposition import PCA\n",
        "import matplotlib\n",
        "import numpy as np\n",
        "import matplotlib.pyplot as plt"
      ],
      "execution_count": 0,
      "outputs": []
    },
    {
      "cell_type": "code",
      "metadata": {
        "id": "F7OYUKRuWUzN",
        "colab_type": "code",
        "colab": {}
      },
      "source": [
        "A = np.array([[1,1],[2,1],[2,2],[3,2]])\n",
        "x_var=(1,2,2,3)\n",
        "y_var=(1,1,2,2)"
      ],
      "execution_count": 0,
      "outputs": []
    },
    {
      "cell_type": "code",
      "metadata": {
        "id": "n0AkljwbX5MH",
        "colab_type": "code",
        "outputId": "c4505ae3-a8d0-45b7-deb3-cceb4d33b007",
        "colab": {
          "base_uri": "https://localhost:8080/",
          "height": 287
        }
      },
      "source": [
        "plt.scatter(x = x_var, y = y_var)"
      ],
      "execution_count": 5,
      "outputs": [
        {
          "output_type": "execute_result",
          "data": {
            "text/plain": [
              "<matplotlib.collections.PathCollection at 0x7f7f376999b0>"
            ]
          },
          "metadata": {
            "tags": []
          },
          "execution_count": 5
        },
        {
          "output_type": "display_data",
          "data": {
            "image/png": "[encoded data removed]",
            "text/plain": [
              "<Figure size 432x288 with 1 Axes>"
            ]
          },
          "metadata": {
            "tags": []
          }
        }
      ]
    },
    {
      "cell_type": "code",
      "metadata": {
        "id": "dSkYy3x7YRPN",
        "colab_type": "code",
        "outputId": "ea2f141b-f1d5-4cc9-fa3b-08348fee704a",
        "colab": {
          "base_uri": "https://localhost:8080/",
          "height": 54
        }
      },
      "source": [
        "mean_x=np.mean(x_var)\n",
        "mean_y=np.mean(y_var)\n",
        "print(mean_x)\n",
        "print(mean_y)"
      ],
      "execution_count": 6,
      "outputs": [
        {
          "output_type": "stream",
          "text": [
            "2.0\n",
            "1.5\n"
          ],
          "name": "stdout"
        }
      ]
    },
    {
      "cell_type": "code",
      "metadata": {
        "id": "wskp8PXkcTve",
        "colab_type": "code",
        "outputId": "a2453f46-8806-4d8b-bd1a-aeab1bdf2ec5",
        "colab": {
          "base_uri": "https://localhost:8080/",
          "height": 54
        }
      },
      "source": [
        "cov=np.cov(x_var,y_var)\n",
        "print(cov)"
      ],
      "execution_count": 7,
      "outputs": [
        {
          "output_type": "stream",
          "text": [
            "[[0.66666667 0.33333333]\n",
            " [0.33333333 0.33333333]]\n"
          ],
          "name": "stdout"
        }
      ]
    },
    {
      "cell_type": "code",
      "metadata": {
        "id": "mUT_yFBCc8Ei",
        "colab_type": "code",
        "colab": {}
      },
      "source": [
        "from numpy import linalg as LA"
      ],
      "execution_count": 0,
      "outputs": []
    },
    {
      "cell_type": "code",
      "metadata": {
        "id": "mZRB3l6GdnSO",
        "colab_type": "code",
        "outputId": "68c452e7-b4a9-4a4a-f0f6-9950c10f4063",
        "colab": {
          "base_uri": "https://localhost:8080/",
          "height": 54
        }
      },
      "source": [
        "#eign vectors.\n",
        "w, v = LA.eig(cov)\n",
        "w;v"
      ],
      "execution_count": 9,
      "outputs": [
        {
          "output_type": "execute_result",
          "data": {
            "text/plain": [
              "array([[ 0.85065081, -0.52573111],\n",
              "       [ 0.52573111,  0.85065081]])"
            ]
          },
          "metadata": {
            "tags": []
          },
          "execution_count": 9
        }
      ]
    },
    {
      "cell_type": "code",
      "metadata": {
        "id": "MnP-2lxFhAuH",
        "colab_type": "code",
        "colab": {}
      },
      "source": [
        "msubX = A[:,0] - mean_x\n",
        "\n",
        "msubY = A[:,1] - mean_y"
      ],
      "execution_count": 0,
      "outputs": []
    },
    {
      "cell_type": "code",
      "metadata": {
        "id": "TDnlBBRVeThS",
        "colab_type": "code",
        "colab": {
          "base_uri": "https://localhost:8080/",
          "height": 90
        },
        "outputId": "bfaf6cbf-7de0-4cb9-939b-667aa4ad7d3a"
      },
      "source": [
        "msubData = np.column_stack((msubX,msubY))\n",
        "\n",
        "msubData"
      ],
      "execution_count": 11,
      "outputs": [
        {
          "output_type": "execute_result",
          "data": {
            "text/plain": [
              "array([[-1. , -0.5],\n",
              "       [ 0. , -0.5],\n",
              "       [ 0. ,  0.5],\n",
              "       [ 1. ,  0.5]])"
            ]
          },
          "metadata": {
            "tags": []
          },
          "execution_count": 11
        }
      ]
    },
    {
      "cell_type": "code",
      "metadata": {
        "id": "STrLaACoMeFC",
        "colab_type": "code",
        "colab": {
          "base_uri": "https://localhost:8080/",
          "height": 90
        },
        "outputId": "3e2de2b6-3350-4c74-c219-328d1accfc3e"
      },
      "source": [
        "Cmatprod = np.dot(msubData,msubData.T)\n",
        "\n",
        "Cmatprod"
      ],
      "execution_count": 14,
      "outputs": [
        {
          "output_type": "execute_result",
          "data": {
            "text/plain": [
              "array([[ 1.25,  0.25, -0.25, -1.25],\n",
              "       [ 0.25,  0.25, -0.25, -0.25],\n",
              "       [-0.25, -0.25,  0.25,  0.25],\n",
              "       [-1.25, -0.25,  0.25,  1.25]])"
            ]
          },
          "metadata": {
            "tags": []
          },
          "execution_count": 14
        }
      ]
    },
    {
      "cell_type": "code",
      "metadata": {
        "id": "b235TXGKMmqr",
        "colab_type": "code",
        "colab": {
          "base_uri": "https://localhost:8080/",
          "height": 108
        },
        "outputId": "f4b13de8-8fa2-4f13-8768-05cf6afb3010"
      },
      "source": [
        "eigenval, eigenvec = np.linalg.eig(Cmatprod)\n",
        "\n",
        "print(eigenval)\n",
        "\n",
        "print(eigenvec)"
      ],
      "execution_count": 15,
      "outputs": [
        {
          "output_type": "stream",
          "text": [
            "[ 2.61803399e+00  3.81966011e-01 -9.45799730e-17 -2.55373581e-17]\n",
            "[[-0.68819096  0.16245985  0.67618941  0.02708022]\n",
            " [-0.16245985 -0.68819096  0.20680399  0.70658804]\n",
            " [ 0.16245985  0.68819096  0.20680399  0.70658804]\n",
            " [ 0.68819096 -0.16245985  0.67618941  0.02708022]]\n"
          ],
          "name": "stdout"
        }
      ]
    },
    {
      "cell_type": "code",
      "metadata": {
        "id": "4GVI_UTnMpH5",
        "colab_type": "code",
        "colab": {
          "base_uri": "https://localhost:8080/",
          "height": 90
        },
        "outputId": "9b0ef7ff-6b79-47b7-e240-b03417a7b239"
      },
      "source": [
        "evec=eigenvec[:,[0]]\n",
        "print(evec)"
      ],
      "execution_count": 16,
      "outputs": [
        {
          "output_type": "stream",
          "text": [
            "[[-0.68819096]\n",
            " [-0.16245985]\n",
            " [ 0.16245985]\n",
            " [ 0.68819096]]\n"
          ],
          "name": "stdout"
        }
      ]
    },
    {
      "cell_type": "code",
      "metadata": {
        "id": "Yqt2Ss2sNcZN",
        "colab_type": "code",
        "colab": {
          "base_uri": "https://localhost:8080/",
          "height": 35
        },
        "outputId": "eb2ca560-e6c1-4a6a-eb7a-609133dcade5"
      },
      "source": [
        "e_val=eigenval[0]\n",
        "print(e_val)"
      ],
      "execution_count": 17,
      "outputs": [
        {
          "output_type": "stream",
          "text": [
            "2.6180339887498945\n"
          ],
          "name": "stdout"
        }
      ]
    },
    {
      "cell_type": "code",
      "metadata": {
        "id": "ssrSilfwNrT6",
        "colab_type": "code",
        "colab": {
          "base_uri": "https://localhost:8080/",
          "height": 181
        },
        "outputId": "4c39f917-2d19-4e25-8b0f-94f77542b457"
      },
      "source": [
        "import math\n",
        "mdsproj=math.sqrt(e_val)*evec\n",
        "print(mdsproj)\n",
        "from sklearn.metrics.pairwise import euclidean_distances\n",
        "euc_dis_original=euclidean_distances(msubData, msubData)\n",
        "print(\"euclidean distance\")\n",
        "print(euc_dis_original)"
      ],
      "execution_count": 19,
      "outputs": [
        {
          "output_type": "stream",
          "text": [
            "[[-1.11351636]\n",
            " [-0.26286556]\n",
            " [ 0.26286556]\n",
            " [ 1.11351636]]\n",
            "euclidean distance\n",
            "[[0.         1.         1.41421356 2.23606798]\n",
            " [1.         0.         1.         1.41421356]\n",
            " [1.41421356 1.         0.         1.        ]\n",
            " [2.23606798 1.41421356 1.         0.        ]]\n"
          ],
          "name": "stdout"
        }
      ]
    },
    {
      "cell_type": "code",
      "metadata": {
        "id": "fWNFW8l_OAuL",
        "colab_type": "code",
        "colab": {
          "base_uri": "https://localhost:8080/",
          "height": 90
        },
        "outputId": "7a22b219-f05d-4778-e470-5180b5d26d8b"
      },
      "source": [
        "euc_dis_mod=euclidean_distances(mdsproj, mdsproj)\n",
        "print(euc_dis_mod)"
      ],
      "execution_count": 20,
      "outputs": [
        {
          "output_type": "stream",
          "text": [
            "[[0.         0.85065081 1.37638192 2.22703273]\n",
            " [0.85065081 0.         0.52573111 1.37638192]\n",
            " [1.37638192 0.52573111 0.         0.85065081]\n",
            " [2.22703273 1.37638192 0.85065081 0.        ]]\n"
          ],
          "name": "stdout"
        }
      ]
    },
    {
      "cell_type": "code",
      "metadata": {
        "id": "j5FjVqztOGHg",
        "colab_type": "code",
        "colab": {
          "base_uri": "https://localhost:8080/",
          "height": 269
        },
        "outputId": "0831bca4-1e57-4e21-dd40-b79f1e0a7646"
      },
      "source": [
        "plt.scatter(euc_dis_original, euc_dis_mod)\n",
        "plt.show()\n"
      ],
      "execution_count": 21,
      "outputs": [
        {
          "output_type": "display_data",
          "data": {
            "image/png": "[encoded data removed]",
            "text/plain": [
              "<Figure size 432x288 with 1 Axes>"
            ]
          },
          "metadata": {
            "tags": []
          }
        }
      ]
    },
    {
      "cell_type": "code",
      "metadata": {
        "id": "S6fEZnAbORvG",
        "colab_type": "code",
        "colab": {
          "base_uri": "https://localhost:8080/",
          "height": 269
        },
        "outputId": "a762a384-9a9f-43f0-8eec-fc22c7630f40"
      },
      "source": [
        "plt.plot(euc_dis_original, euc_dis_mod)\n",
        "plt.show()"
      ],
      "execution_count": 22,
      "outputs": [
        {
          "output_type": "display_data",
          "data": {
            "image/png": "[encoded data removed]",
            "text/plain": [
              "<Figure size 432x288 with 1 Axes>"
            ]
          },
          "metadata": {
            "tags": []
          }
        }
      ]
    },
    {
      "cell_type": "code",
      "metadata": {
        "id": "c2jsghHWOaaS",
        "colab_type": "code",
        "colab": {
          "base_uri": "https://localhost:8080/",
          "height": 90
        },
        "outputId": "5bfab1bd-c847-469c-88cc-590ca13662ab"
      },
      "source": [
        "print(euc_dis_original-euc_dis_mod)"
      ],
      "execution_count": 24,
      "outputs": [
        {
          "output_type": "stream",
          "text": [
            "[[0.         0.14934919 0.03783164 0.00903525]\n",
            " [0.14934919 0.         0.47426889 0.03783164]\n",
            " [0.03783164 0.47426889 0.         0.14934919]\n",
            " [0.00903525 0.03783164 0.14934919 0.        ]]\n"
          ],
          "name": "stdout"
        }
      ]
    }
  ]
}