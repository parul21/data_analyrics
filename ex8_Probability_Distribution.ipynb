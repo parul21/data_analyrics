{
  "nbformat": 4,
  "nbformat_minor": 0,
  "metadata": {
    "colab": {
      "name": "ex8_Probability_Distribution.ipynb",
      "version": "0.3.2",
      "provenance": [],
      "include_colab_link": true
    },
    "kernelspec": {
      "name": "python3",
      "display_name": "Python 3"
    }
  },
  "cells": [
    {
      "cell_type": "markdown",
      "metadata": {
        "id": "view-in-github",
        "colab_type": "text"
      },
      "source": [
        "<a href=\"https://colab.research.google.com/github/parul21/data_analytics/blob/master/ex8_Probability_Distribution.ipynb\" target=\"_parent\"><img src=\"https://colab.research.google.com/assets/colab-badge.svg\" alt=\"Open In Colab\"/></a>"
      ]
    },
    {
      "cell_type": "code",
      "metadata": {
        "id": "Um_4_WAHWZ70",
        "colab_type": "code",
        "colab": {}
      },
      "source": [
        "import numpy as np\n",
        "import matplotlib.pyplot as plt\n"
      ],
      "execution_count": 0,
      "outputs": []
    },
    {
      "cell_type": "code",
      "metadata": {
        "id": "GCQGE_f3WjDu",
        "colab_type": "code",
        "colab": {
          "base_uri": "https://localhost:8080/",
          "height": 354
        },
        "outputId": "6e4970bc-d77a-4bec-9e86-a2da96c270ad"
      },
      "source": [
        "print(\"NORMAL DISTRIBUTION\")\n",
        "mu, sigma = 0, 0.1 # mean and standard deviation\n",
        "s = np.random.normal(mu, sigma, 1000)\n",
        "print(\"NORMAL PLOTTING\")\n",
        "count, bins, ignored = plt.hist(s, 30, normed=True)\n",
        "plt.plot(bins, 1/(sigma * np.sqrt(2 * np.pi)) *np.exp( - (bins - mu)**2 / (2 * sigma**2) ),linewidth=2, color='r')\n",
        "plt.show()"
      ],
      "execution_count": 2,
      "outputs": [
        {
          "output_type": "stream",
          "text": [
            "NORMAL DISTRIBUTION\n",
            "NORMAL PLOTTING\n"
          ],
          "name": "stdout"
        },
        {
          "output_type": "stream",
          "text": [
            "/usr/local/lib/python3.6/dist-packages/matplotlib/axes/_axes.py:6521: MatplotlibDeprecationWarning: \n",
            "The 'normed' kwarg was deprecated in Matplotlib 2.1 and will be removed in 3.1. Use 'density' instead.\n",
            "  alternative=\"'density'\", removal=\"3.1\")\n"
          ],
          "name": "stderr"
        },
        {
          "output_type": "display_data",
          "data": {
            "image/png": "[encoded data removed]",
            "text/plain": [
              "<Figure size 432x288 with 1 Axes>"
            ]
          },
          "metadata": {
            "tags": []
          }
        }
      ]
    },
    {
      "cell_type": "code",
      "metadata": {
        "id": "tqGx6dFBWlsZ",
        "colab_type": "code",
        "colab": {
          "base_uri": "https://localhost:8080/",
          "height": 1000
        },
        "outputId": "e1162bd9-c0bc-4b7b-e3dc-0446b8cd6486"
      },
      "source": [
        "print(\"UNIFORM DISTRIBUTION\")\n",
        "s2 = np.random.uniform(-1,0,1000)\n",
        "print(s2)\n",
        "print(\"UNIFORM PLOTTING\")\n",
        "count, bins, ignored = plt.hist(s2, 15, normed=True)\n",
        "plt.plot(bins, np.ones_like(bins), linewidth=2, color='r')\n",
        "plt.show()"
      ],
      "execution_count": 3,
      "outputs": [
        {
          "output_type": "stream",
          "text": [
            "UNIFORM DISTRIBUTION\n",
            "[-3.69328565e-01 -4.78298812e-01 -7.70370876e-01 -8.06096047e-01\n",
            " -2.48871900e-01 -6.57522135e-01 -2.66186286e-01 -5.92814020e-01\n",
            " -4.37956486e-01 -4.81859594e-01 -2.07336820e-01 -5.61986672e-02\n",
            " -6.61055713e-01 -4.41937351e-01 -1.94881514e-01 -5.99477521e-02\n",
            " -5.87044670e-04 -9.84037312e-01 -3.00950278e-01 -2.54255799e-01\n",
            " -1.38374343e-01 -1.66938641e-01 -1.16397163e-01 -2.95519781e-01\n",
            " -3.31743142e-01 -2.36264536e-01 -4.08441827e-02 -1.14641777e-01\n",
            " -6.60299956e-01 -3.14100952e-01 -9.41352597e-01 -3.03272520e-01\n",
            " -1.50171080e-01 -7.58263177e-01 -2.97375701e-02 -8.68570830e-01\n",
            " -3.36817437e-01 -1.04662160e-01 -7.48869546e-01 -9.55328599e-01\n",
            " -4.96436680e-01 -3.03084711e-01 -8.41308939e-01 -2.22746152e-01\n",
            " -4.61861238e-01 -7.48270803e-01 -3.75347972e-01 -9.15516583e-01\n",
            " -1.19488961e-01 -8.01347883e-01 -3.53569922e-01 -2.87301094e-01\n",
            " -2.74537191e-02 -6.81344918e-01 -8.04783592e-02 -9.97271902e-01\n",
            " -2.91633904e-01 -6.40625566e-01 -2.40416377e-01 -7.96367129e-01\n",
            " -3.90305514e-02 -5.31863149e-01 -4.01996343e-01 -6.68230608e-01\n",
            " -2.47697349e-01 -7.52442070e-01 -6.72617525e-01 -6.84187555e-01\n",
            " -8.86042671e-01 -1.98056894e-01 -7.47252877e-01 -2.99939377e-01\n",
            " -9.23491660e-02 -5.65770512e-01 -9.52717486e-01 -2.63905584e-01\n",
            " -8.95518516e-01 -5.19284196e-01 -5.21571463e-01 -8.44592484e-01\n",
            " -5.79969505e-01 -7.31250645e-01 -1.95884004e-02 -9.11268756e-01\n",
            " -8.51588241e-01 -4.20246616e-01 -7.46233108e-01 -6.91060406e-01\n",
            " -6.16880566e-01 -8.37263370e-01 -6.92558262e-01 -4.16348642e-02\n",
            " -4.42086790e-01 -7.33657093e-01 -2.03085997e-01 -1.69161341e-01\n",
            " -5.81155030e-01 -2.53516114e-01 -8.28370494e-01 -4.35469286e-03\n",
            " -3.20798371e-01 -3.61158539e-01 -4.12354768e-01 -8.25891961e-01\n",
            " -3.15388618e-01 -9.04178049e-01 -2.57795299e-01 -4.40629805e-01\n",
            " -3.59397596e-01 -6.37372263e-01 -8.16699227e-01 -8.39284472e-01\n",
            " -7.32920273e-01 -1.15039156e-01 -4.63245883e-01 -2.36432583e-01\n",
            " -7.49381710e-01 -8.19048261e-01 -2.38315292e-01 -8.57859721e-01\n",
            " -6.80433416e-01 -1.04515622e-01 -2.20445630e-01 -2.90961370e-01\n",
            " -1.74277185e-01 -2.72497269e-01 -3.48799942e-01 -1.81678103e-01\n",
            " -8.47752790e-01 -1.67877828e-01 -5.32818683e-01 -5.40083093e-01\n",
            " -7.43253717e-01 -6.46338954e-01 -6.06942737e-02 -4.91084237e-01\n",
            " -7.66431560e-01 -1.44635744e-01 -5.33134063e-02 -2.95217906e-01\n",
            " -9.08435755e-01 -4.39289976e-01 -9.93390850e-01 -6.21728742e-01\n",
            " -2.84492197e-01 -2.18614417e-01 -4.57720202e-01 -8.95344203e-01\n",
            " -5.51421630e-01 -3.46414298e-01 -1.66548427e-01 -2.21653580e-01\n",
            " -8.31580427e-01 -4.69870502e-01 -2.49250991e-01 -7.55244884e-01\n",
            " -7.93201576e-01 -4.74935877e-02 -1.87050547e-03 -5.30469959e-01\n",
            " -6.77313908e-01 -8.36423511e-02 -2.04943430e-01 -3.68529182e-02\n",
            " -3.85872823e-01 -7.49792847e-01 -5.10776937e-01 -7.05898532e-01\n",
            " -1.17626799e-02 -8.22902658e-01 -6.42621710e-01 -6.84644578e-01\n",
            " -7.54022395e-01 -8.39553307e-01 -5.65013685e-02 -2.89819149e-01\n",
            " -6.13135974e-01 -2.59952878e-01 -8.87890274e-01 -4.17142157e-01\n",
            " -1.82532065e-01 -7.74956041e-01 -7.44095449e-02 -3.64140620e-01\n",
            " -1.56863659e-02 -8.05706737e-01 -3.49375863e-01 -1.62976796e-01\n",
            " -5.61127129e-01 -3.68828718e-01 -4.18863240e-01 -2.01542916e-01\n",
            " -5.58739054e-01 -4.01773427e-01 -9.34572734e-01 -1.13430212e-01\n",
            " -2.92795109e-01 -7.58332111e-01 -1.55129111e-01 -9.91793855e-01\n",
            " -6.32310976e-01 -2.00820820e-01 -7.45976470e-02 -7.96663796e-01\n",
            " -9.51901420e-01 -9.56823501e-01 -8.82156859e-01 -8.14918518e-01\n",
            " -9.78704489e-01 -9.07477078e-01 -4.03577525e-01 -2.61148760e-01\n",
            " -8.90378293e-01 -1.12946248e-01 -5.51985487e-01 -5.46401196e-01\n",
            " -7.22219345e-01 -2.83389374e-01 -5.09077553e-01 -3.08660006e-01\n",
            " -2.43242952e-01 -7.99658254e-01 -3.08420821e-01 -5.73077071e-02\n",
            " -8.14695346e-01 -7.74667631e-01 -1.55768337e-01 -8.54727968e-01\n",
            " -9.09771799e-01 -8.39237848e-01 -3.64296162e-01 -5.31314831e-01\n",
            " -3.91183860e-01 -7.63245380e-01 -8.65655507e-01 -8.59004768e-01\n",
            " -3.65054020e-01 -6.17553844e-01 -9.56007402e-01 -5.73041124e-01\n",
            " -3.77590188e-01 -4.47570423e-01 -2.24055030e-01 -8.13837199e-01\n",
            " -3.19970932e-01 -8.07728558e-02 -7.99138212e-01 -2.70591570e-01\n",
            " -5.59438972e-01 -4.31314962e-01 -4.74514478e-01 -7.02274125e-01\n",
            " -5.90855573e-01 -9.04826206e-01 -4.75499783e-01 -6.46488288e-01\n",
            " -7.75252820e-01 -8.96837840e-01 -7.74128797e-01 -5.15389940e-01\n",
            " -5.52614475e-01 -4.50085514e-01 -4.67051520e-01 -7.80010751e-01\n",
            " -4.95057455e-01 -9.69272414e-01 -6.56725017e-02 -8.18604858e-02\n",
            " -7.48008949e-01 -3.24152055e-01 -2.80016808e-01 -1.82810520e-01\n",
            " -3.53702662e-02 -7.87045215e-01 -1.32150575e-02 -4.79313944e-01\n",
            " -1.76983663e-01 -5.28473146e-01 -7.94895644e-01 -6.24277842e-01\n",
            " -7.98315362e-02 -5.63003944e-01 -8.56796580e-01 -1.88175648e-01\n",
            " -9.04312355e-01 -4.49094296e-02 -1.18732610e-01 -5.54115045e-01\n",
            " -7.27955245e-01 -5.52833232e-01 -3.57903846e-01 -5.20108204e-01\n",
            " -7.99479539e-02 -7.41563973e-01 -8.55757701e-01 -3.99485373e-01\n",
            " -9.53092121e-01 -7.72198036e-01 -2.83704804e-01 -2.32362388e-01\n",
            " -5.42674094e-01 -2.17875495e-01 -8.13753241e-01 -7.39139364e-01\n",
            " -1.56788568e-01 -3.12648307e-01 -3.97728282e-01 -2.27567699e-01\n",
            " -4.37569640e-01 -8.29208833e-01 -4.96805728e-02 -5.09242772e-01\n",
            " -8.20027112e-01 -2.27498868e-03 -5.11214639e-01 -4.50962264e-01\n",
            " -2.90378755e-01 -4.57023701e-01 -5.14133165e-01 -9.08410200e-01\n",
            " -9.12275010e-01 -9.54067714e-01 -4.80337803e-01 -2.16056839e-01\n",
            " -6.69013567e-01 -9.15640027e-01 -9.87244189e-01 -1.29519855e-01\n",
            " -7.79655471e-01 -8.09870880e-01 -9.41404548e-01 -4.40909649e-02\n",
            " -1.86379320e-01 -2.84916614e-01 -4.44341622e-01 -9.79381905e-01\n",
            " -3.76816931e-01 -1.74152960e-02 -9.45847394e-01 -7.53224948e-01\n",
            " -1.40516578e-01 -5.04574771e-01 -8.12633737e-01 -8.58197173e-01\n",
            " -1.61641757e-01 -4.48380928e-01 -8.08445010e-01 -6.34409706e-02\n",
            " -4.31058551e-01 -2.45611363e-01 -4.95940192e-01 -9.30061452e-01\n",
            " -8.67043991e-02 -6.89655474e-02 -5.22242939e-01 -2.15603338e-02\n",
            " -2.90143066e-01 -7.75159333e-01 -8.60341306e-01 -6.14002776e-01\n",
            " -7.24132612e-02 -9.28536049e-01 -2.57236777e-02 -4.08254303e-01\n",
            " -4.47275552e-01 -1.26772170e-01 -7.61005475e-01 -2.81703367e-02\n",
            " -1.65425785e-01 -9.86351130e-02 -7.56188149e-01 -5.46199706e-01\n",
            " -1.46105888e-01 -7.17367116e-01 -1.39668794e-01 -4.95468639e-01\n",
            " -7.70304233e-01 -6.89121150e-01 -2.89267376e-01 -6.78239227e-01\n",
            " -1.50897482e-01 -5.81485572e-02 -2.47189273e-01 -2.46109102e-01\n",
            " -4.41138834e-01 -4.03807705e-01 -5.53184645e-01 -2.78225366e-01\n",
            " -6.54037684e-02 -4.08213831e-01 -8.76146853e-01 -2.77822154e-01\n",
            " -1.19432677e-01 -7.95678442e-01 -2.64534564e-02 -7.25524965e-01\n",
            " -7.24117096e-01 -1.80141614e-03 -4.62479167e-01 -5.20795411e-01\n",
            " -9.71833031e-02 -4.68850165e-01 -4.04396059e-02 -3.90326307e-01\n",
            " -2.22004316e-01 -6.92209007e-01 -2.23955932e-01 -4.89731109e-01\n",
            " -1.16088697e-01 -9.79503085e-01 -5.42112147e-01 -2.00200393e-01\n",
            " -5.62018506e-01 -5.77410377e-01 -8.54555282e-01 -5.71534692e-01\n",
            " -1.39836482e-01 -9.16913607e-01 -9.12648016e-01 -8.07683974e-01\n",
            " -9.79514077e-01 -3.14425625e-01 -2.38428268e-01 -9.00970025e-01\n",
            " -1.02636789e-01 -4.81888840e-01 -5.52796278e-01 -1.55034904e-02\n",
            " -1.49404333e-01 -8.93211807e-01 -2.54903026e-02 -3.34300937e-02\n",
            " -5.37627379e-01 -4.13918787e-01 -1.83123591e-01 -4.83605792e-01\n",
            " -9.45501583e-01 -1.65074564e-01 -5.77358082e-01 -8.62995575e-01\n",
            " -9.53418656e-01 -5.14129776e-01 -2.96732120e-01 -5.25783322e-01\n",
            " -3.41519049e-01 -8.24695051e-01 -8.14940321e-01 -6.27552627e-01\n",
            " -2.02268392e-01 -7.85055753e-01 -4.92478475e-01 -9.32259331e-01\n",
            " -4.89832824e-02 -1.29318833e-02 -5.77962546e-01 -7.35071440e-01\n",
            " -8.07951219e-01 -6.55302296e-01 -1.24493185e-01 -6.85326280e-01\n",
            " -9.70847093e-01 -8.18214852e-01 -2.37296259e-01 -7.06098562e-01\n",
            " -9.59172390e-01 -9.72787238e-02 -3.63958508e-01 -3.71954049e-01\n",
            " -6.79888190e-01 -1.24585225e-01 -4.85787894e-01 -4.26746972e-03\n",
            " -2.27332440e-01 -6.54023330e-01 -4.47710271e-01 -7.51198327e-01\n",
            " -6.58110424e-01 -9.97947010e-01 -5.96530087e-01 -8.78626193e-01\n",
            " -9.38078850e-02 -7.01820985e-01 -6.35784512e-01 -7.80889746e-01\n",
            " -6.56877478e-01 -7.52499326e-01 -1.73345123e-01 -4.34478133e-01\n",
            " -2.75260447e-01 -8.57802469e-01 -3.55537919e-01 -7.53805692e-01\n",
            " -1.54394630e-01 -8.86956301e-01 -9.99258968e-01 -5.67247755e-01\n",
            " -4.64447514e-01 -4.39389641e-01 -8.46153004e-01 -3.56436421e-01\n",
            " -5.26033175e-01 -7.06923208e-01 -3.87654767e-01 -7.02828069e-02\n",
            " -4.82824341e-01 -4.43385537e-01 -2.86368146e-01 -1.22604828e-01\n",
            " -6.99195889e-01 -1.92965248e-01 -7.79697968e-01 -6.74403567e-01\n",
            " -6.07309455e-01 -1.37759678e-01 -4.48606476e-01 -8.64253241e-01\n",
            " -7.79981825e-01 -4.75125513e-01 -5.97644214e-01 -3.38776128e-01\n",
            " -9.50485639e-01 -9.98059303e-01 -7.33634535e-01 -8.33732746e-01\n",
            " -5.90397078e-01 -5.42622685e-01 -5.82517127e-01 -9.72155999e-02\n",
            " -2.66353978e-02 -9.39368060e-01 -3.39395485e-01 -7.78375224e-01\n",
            " -2.86402788e-01 -1.75694789e-01 -6.82385580e-03 -7.35658499e-01\n",
            " -7.61908478e-01 -5.15636193e-01 -7.68176813e-03 -6.75823698e-01\n",
            " -3.05114195e-01 -3.10701682e-01 -2.56532641e-01 -2.03309729e-01\n",
            " -1.43848352e-01 -4.38442698e-03 -3.83651446e-01 -8.90110427e-01\n",
            " -1.39570426e-02 -5.56460055e-01 -5.40063882e-01 -6.79607521e-01\n",
            " -5.27953795e-01 -6.17607428e-01 -8.96773496e-01 -6.22421000e-01\n",
            " -6.12439585e-01 -5.91695169e-01 -5.24875644e-01 -3.71710108e-01\n",
            " -4.63637331e-01 -1.63722843e-01 -3.10619162e-01 -5.16167920e-01\n",
            " -5.43807667e-01 -6.55577149e-01 -5.81498687e-01 -4.56325978e-01\n",
            " -1.97965157e-01 -8.61031862e-01 -6.47291814e-01 -5.70469440e-01\n",
            " -5.83655496e-01 -1.67898564e-01 -9.60625906e-01 -7.61244262e-01\n",
            " -8.16739393e-01 -6.92152808e-01 -3.45591021e-01 -2.84944033e-01\n",
            " -6.99645722e-01 -3.45926646e-01 -4.61872279e-01 -7.05877020e-01\n",
            " -7.21969097e-01 -9.77492439e-01 -2.18328184e-01 -6.06450124e-01\n",
            " -3.74910803e-01 -6.48606826e-01 -8.80429349e-01 -6.95028875e-01\n",
            " -1.54244767e-01 -5.87507027e-01 -1.98606522e-01 -7.76298121e-01\n",
            " -9.11829145e-01 -8.15999960e-01 -7.62875395e-01 -8.90625724e-01\n",
            " -3.53492962e-01 -7.58783106e-02 -8.68419011e-01 -8.98762708e-01\n",
            " -5.65961396e-02 -2.95590421e-01 -2.88506227e-01 -9.47952782e-01\n",
            " -1.02462024e-01 -2.78362243e-01 -2.14967650e-01 -4.30794903e-01\n",
            " -3.00778524e-01 -5.54704024e-01 -5.85081979e-01 -9.73232225e-01\n",
            " -5.78996234e-01 -6.80265740e-01 -6.55230088e-01 -4.20971041e-01\n",
            " -4.98665204e-01 -8.64059688e-01 -7.29001947e-01 -1.20493223e-02\n",
            " -1.16894967e-01 -3.43714429e-01 -9.25696767e-01 -4.65811202e-02\n",
            " -3.76386745e-01 -1.36105880e-01 -3.17806220e-01 -5.66077628e-01\n",
            " -2.26121591e-01 -8.57833781e-01 -6.84192818e-01 -1.85419193e-01\n",
            " -5.31173105e-01 -4.39921376e-01 -2.60739662e-01 -2.02773323e-01\n",
            " -9.15617971e-01 -7.91478767e-01 -3.68632477e-01 -6.45957236e-02\n",
            " -7.84487925e-01 -3.74834961e-02 -6.21984365e-01 -8.00556486e-01\n",
            " -5.42481364e-01 -1.19612138e-01 -6.98609776e-01 -7.01650639e-01\n",
            " -9.98186359e-01 -1.39122475e-01 -8.75228889e-02 -3.05826075e-01\n",
            " -2.07483396e-01 -7.03612566e-01 -3.41415922e-01 -6.64949808e-01\n",
            " -3.02786999e-01 -8.06694597e-01 -4.20646412e-01 -1.97893447e-01\n",
            " -5.25465538e-01 -1.24648802e-01 -9.47023260e-01 -1.86043243e-01\n",
            " -4.07801784e-01 -3.06963599e-01 -1.94892358e-02 -6.06139966e-01\n",
            " -2.82541676e-01 -9.48332864e-01 -7.07879170e-01 -2.00635958e-01\n",
            " -8.79007909e-01 -7.49203219e-01 -4.34204665e-01 -8.02194349e-01\n",
            " -4.05007608e-03 -5.33257415e-01 -6.57012109e-01 -4.07046266e-02\n",
            " -1.14950320e-01 -2.20683514e-01 -4.09328120e-02 -5.67692615e-01\n",
            " -3.06484880e-01 -7.93793296e-01 -6.50546860e-01 -4.19299929e-01\n",
            " -1.22705399e-01 -4.17658501e-01 -6.55632680e-01 -4.21858331e-01\n",
            " -8.19474055e-01 -2.08597653e-01 -1.71795388e-01 -8.99559505e-01\n",
            " -4.78625636e-01 -5.28897311e-01 -9.68246034e-01 -3.17682117e-01\n",
            " -5.64191281e-01 -9.83508806e-01 -2.50532125e-01 -8.77486098e-01\n",
            " -9.73440828e-01 -3.77109877e-01 -8.93754008e-01 -9.17401232e-01\n",
            " -8.63412845e-01 -7.68459585e-01 -1.22687033e-01 -9.91418612e-01\n",
            " -4.99943077e-01 -7.88213338e-01 -2.39848434e-03 -1.06661049e-01\n",
            " -2.16122692e-01 -6.32442589e-01 -1.20417879e-01 -9.45170012e-01\n",
            " -6.81406064e-01 -3.07021780e-01 -7.17073434e-01 -2.80122736e-01\n",
            " -3.17259745e-01 -9.00435975e-01 -2.10353350e-01 -4.73339794e-01\n",
            " -6.84391072e-01 -3.72062833e-01 -1.66850041e-01 -1.36553035e-01\n",
            " -6.94331602e-01 -1.30849176e-01 -8.15797813e-01 -6.75727409e-02\n",
            " -7.09723493e-01 -3.41554905e-01 -7.30898421e-02 -3.38415048e-01\n",
            " -2.51529829e-01 -5.33546973e-01 -8.14610921e-01 -5.38657925e-01\n",
            " -5.79222317e-01 -6.16506758e-01 -2.92881573e-01 -5.87329814e-01\n",
            " -3.07812863e-01 -5.00206746e-01 -6.61518095e-01 -4.91429149e-01\n",
            " -7.74261002e-02 -5.66206805e-01 -3.80022468e-01 -8.23067115e-01\n",
            " -9.99816106e-01 -4.59700149e-01 -7.99025507e-01 -7.89902741e-01\n",
            " -5.67009884e-01 -9.04278225e-01 -5.13786662e-01 -3.47744714e-01\n",
            " -7.49609037e-01 -1.81475458e-01 -4.83263335e-01 -5.57580018e-01\n",
            " -5.73890209e-01 -7.39957636e-01 -5.38138080e-01 -4.42172370e-02\n",
            " -4.96993439e-01 -5.08299258e-01 -2.33931534e-01 -2.01167372e-01\n",
            " -2.15708401e-01 -5.72328742e-01 -2.93096024e-01 -8.62978758e-01\n",
            " -7.08881747e-02 -9.83919664e-01 -8.05018474e-01 -8.86621321e-01\n",
            " -4.69471619e-01 -2.62212125e-01 -4.40104386e-01 -4.50673034e-01\n",
            " -7.13500142e-01 -1.97115442e-01 -4.62319120e-01 -5.41045084e-01\n",
            " -1.35488879e-01 -4.67789929e-01 -6.87978693e-01 -2.27698352e-01\n",
            " -2.07955464e-01 -3.70551865e-01 -9.33345460e-02 -6.53567141e-01\n",
            " -1.00929412e-01 -1.48345108e-01 -8.57109339e-01 -5.43889792e-01\n",
            " -3.05021969e-02 -5.50097925e-02 -8.93005883e-01 -4.06947090e-01\n",
            " -3.38829056e-01 -9.27015994e-01 -9.22434037e-02 -8.46397651e-01\n",
            " -2.21540129e-02 -3.39535875e-01 -6.57938084e-01 -7.04833011e-01\n",
            " -1.01101660e-01 -2.75786944e-01 -8.50705070e-01 -1.75959983e-01\n",
            " -8.86738982e-01 -6.31211448e-01 -7.22258491e-01 -2.20092892e-01\n",
            " -4.90519009e-01 -6.96487730e-01 -3.26390021e-01 -1.90608890e-01\n",
            " -9.04096447e-01 -9.27234152e-01 -3.78176367e-01 -3.78031290e-01\n",
            " -8.90987293e-01 -2.92134625e-01 -3.32107559e-01 -5.77805611e-01\n",
            " -1.87310257e-01 -3.23629219e-01 -7.57032205e-01 -1.35059325e-02\n",
            " -3.58171870e-01 -7.68069761e-01 -5.97032664e-01 -2.19143548e-01\n",
            " -7.44331600e-01 -2.17774286e-01 -8.24309399e-01 -9.68563558e-02\n",
            " -1.09194547e-02 -2.17633625e-01 -6.28088064e-01 -6.71975387e-01\n",
            " -9.37416080e-01 -6.67282862e-01 -5.01754247e-01 -8.68107961e-01\n",
            " -8.39166600e-01 -5.29233643e-01 -6.55633510e-01 -1.87836859e-01\n",
            " -7.09892485e-01 -1.27278980e-01 -9.16576962e-02 -3.16857013e-02\n",
            " -5.35252340e-01 -9.79682200e-01 -3.48735506e-01 -9.99707274e-01\n",
            " -7.38723382e-01 -1.76082281e-01 -8.24362024e-01 -7.17963290e-01\n",
            " -5.97919602e-01 -7.21725121e-01 -5.74540833e-01 -8.63585844e-01\n",
            " -5.73986543e-01 -4.43624426e-01 -2.22467338e-01 -5.11740747e-01\n",
            " -8.79763690e-01 -9.95058945e-01 -3.73047794e-01 -4.40004623e-02\n",
            " -2.87343567e-01 -5.74332054e-02 -4.22858242e-01 -9.85175613e-01\n",
            " -4.52238794e-01 -7.49941567e-01 -4.02612255e-01 -9.13085433e-01\n",
            " -1.66202481e-01 -6.78523981e-01 -1.76493004e-01 -2.07148500e-01\n",
            " -8.25620337e-01 -3.26397262e-02 -9.64505763e-01 -4.39294092e-01\n",
            " -4.88652212e-01 -5.16153051e-01 -7.97805325e-01 -7.40141233e-01\n",
            " -7.49378082e-02 -6.49373099e-01 -9.40937720e-01 -7.69920136e-01\n",
            " -6.00127133e-01 -5.14922627e-01 -7.80876624e-01 -7.11704980e-03\n",
            " -4.63925809e-01 -8.66889115e-01 -2.41193821e-01 -4.37917107e-01\n",
            " -9.57181364e-01 -9.12590917e-01 -7.92460786e-01 -7.41257502e-01\n",
            " -2.38577083e-01 -5.94326508e-01 -8.50017342e-01 -2.34933837e-01\n",
            " -9.61221114e-01 -7.08385423e-01 -8.73668099e-01 -6.75221506e-01\n",
            " -1.25213523e-01 -1.54782203e-01 -2.68850186e-01 -1.33173434e-01\n",
            " -1.32655451e-01 -8.43254120e-01 -2.90818586e-01 -6.75749241e-01\n",
            " -7.79278859e-01 -3.72371884e-01 -5.33249746e-01 -7.77018434e-01\n",
            " -2.22793367e-01 -1.79367654e-01 -7.36852138e-01 -3.62411017e-01\n",
            " -1.52638326e-02 -4.85184048e-01 -7.71900250e-01 -5.79970093e-01\n",
            " -6.36002652e-01 -2.29102021e-01 -1.09695673e-01 -5.62204172e-01\n",
            " -1.33089873e-01 -5.81390269e-01 -2.71400941e-01 -8.67083342e-01\n",
            " -3.28951246e-01 -3.30320020e-01 -3.78608940e-01 -4.88922225e-01\n",
            " -7.60363792e-01 -8.45214143e-01 -9.51088616e-01 -6.89830802e-01\n",
            " -7.05571100e-02 -4.98034518e-01 -9.70294334e-01 -5.76396493e-01\n",
            " -6.48134672e-01 -4.38105329e-01 -5.62965299e-01 -5.07627142e-01\n",
            " -5.65783015e-01 -8.81205877e-01 -2.15902012e-01 -1.69370553e-01\n",
            " -1.19681984e-01 -7.50733350e-01 -6.81443305e-01 -7.20597154e-01\n",
            " -6.71042021e-01 -6.97724598e-01 -8.92511923e-01 -7.11439543e-01\n",
            " -2.62254490e-01 -6.94935372e-01 -7.36957005e-01 -8.21478805e-01\n",
            " -6.88934757e-02 -8.61447574e-01 -5.27242294e-02 -1.95145469e-02\n",
            " -4.61475822e-02 -5.58500685e-01 -7.77346898e-01 -5.77371134e-02]\n",
            "UNIFORM PLOTTING\n"
          ],
          "name": "stdout"
        },
        {
          "output_type": "stream",
          "text": [
            "/usr/local/lib/python3.6/dist-packages/matplotlib/axes/_axes.py:6521: MatplotlibDeprecationWarning: \n",
            "The 'normed' kwarg was deprecated in Matplotlib 2.1 and will be removed in 3.1. Use 'density' instead.\n",
            "  alternative=\"'density'\", removal=\"3.1\")\n"
          ],
          "name": "stderr"
        },
        {
          "output_type": "display_data",
          "data": {
            "image/png": "[encoded data removed]",
            "text/plain": [
              "<Figure size 432x288 with 1 Axes>"
            ]
          },
          "metadata": {
            "tags": []
          }
        }
      ]
    },
    {
      "cell_type": "code",
      "metadata": {
        "id": "mZbYBh3RWv6i",
        "colab_type": "code",
        "colab": {
          "base_uri": "https://localhost:8080/",
          "height": 269
        },
        "outputId": "63e02b59-184a-4d38-aa13-a4d8ba5030fa"
      },
      "source": [
        "pois = np.random.poisson(7.4, 10000)\n",
        "plt.hist(pois, 10,density=True)\n",
        "plt.show()"
      ],
      "execution_count": 4,
      "outputs": [
        {
          "output_type": "display_data",
          "data": {
            "image/png": "[encoded data removed]",
            "text/plain": [
              "<Figure size 432x288 with 1 Axes>"
            ]
          },
          "metadata": {
            "tags": []
          }
        }
      ]
    },
    {
      "cell_type": "code",
      "metadata": {
        "id": "v0_rRn5SXAIZ",
        "colab_type": "code",
        "colab": {
          "base_uri": "https://localhost:8080/",
          "height": 286
        },
        "outputId": "b3a49318-29df-41b9-a087-8f794feab75b"
      },
      "source": [
        "print(\"BINOMIAL DISTRIBUTION\")\n",
        "n, p = 10, .5  # number of trials, probability of each trial\n",
        "s3 = np.random.binomial(n, p, 1000)#1000 is the number of times tested\n",
        "plt.hist(s3,20,density=True)\n",
        "plt.show()\n"
      ],
      "execution_count": 6,
      "outputs": [
        {
          "output_type": "stream",
          "text": [
            "BINOMIAL DISTRIBUTION\n"
          ],
          "name": "stdout"
        },
        {
          "output_type": "display_data",
          "data": {
            "image/png": "[encoded data removed]",
            "text/plain": [
              "<Figure size 432x288 with 1 Axes>"
            ]
          },
          "metadata": {
            "tags": []
          }
        }
      ]
    },
    {
      "cell_type": "code",
      "metadata": {
        "id": "5YDjfyxfXfEf",
        "colab_type": "code",
        "colab": {
          "base_uri": "https://localhost:8080/",
          "height": 354
        },
        "outputId": "f9d04edc-51fe-48e8-86b4-80565fcd35e2"
      },
      "source": [
        "print(\"EXPONENTIAL DISTRIBUTION\")\n",
        "import numpy as np\n",
        "import pylab as plt\n",
        "\n",
        "target = 250\n",
        "beta = 1.0/target\n",
        "\n",
        "Y = np.random.exponential(beta, 5000)\n",
        "print(Y)\n",
        "plt.hist(Y, normed=True, bins=200,lw=0,alpha=.8)\n",
        "plt.plot([0,max(Y)],[target,target],'r--')\n",
        "plt.ylim(0,target*1.1)\n",
        "plt.show()\n"
      ],
      "execution_count": 7,
      "outputs": [
        {
          "output_type": "stream",
          "text": [
            "EXPONENTIAL DISTRIBUTION\n",
            "[0.00280756 0.00466331 0.01616721 ... 0.00427918 0.00495872 0.0019849 ]\n"
          ],
          "name": "stdout"
        },
        {
          "output_type": "stream",
          "text": [
            "/usr/local/lib/python3.6/dist-packages/matplotlib/axes/_axes.py:6521: MatplotlibDeprecationWarning: \n",
            "The 'normed' kwarg was deprecated in Matplotlib 2.1 and will be removed in 3.1. Use 'density' instead.\n",
            "  alternative=\"'density'\", removal=\"3.1\")\n"
          ],
          "name": "stderr"
        },
        {
          "output_type": "display_data",
          "data": {
            "image/png": "[encoded data removed]",
            "text/plain": [
              "<Figure size 432x288 with 1 Axes>"
            ]
          },
          "metadata": {
            "tags": []
          }
        }
      ]
    },
    {
      "cell_type": "code",
      "metadata": {
        "id": "WYb5pdCoXnBa",
        "colab_type": "code",
        "colab": {}
      },
      "source": [
        ""
      ],
      "execution_count": 0,
      "outputs": []
    }
  ]
}